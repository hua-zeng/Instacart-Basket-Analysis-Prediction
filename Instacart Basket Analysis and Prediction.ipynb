{
 "cells": [
  {
   "cell_type": "code",
   "execution_count": 29,
   "metadata": {
    "collapsed": true
   },
   "outputs": [],
   "source": [
    "import pandas\n",
    "import matplotlib\n",
    "from matplotlib import pyplot as plt\n",
    "import seaborn\n",
    "import numpy as np\n",
    "import gc\n",
    "%matplotlib inline"
   ]
  },
  {
   "cell_type": "markdown",
   "metadata": {},
   "source": [
    "## Load Datasets"
   ]
  },
  {
   "cell_type": "code",
   "execution_count": 2,
   "metadata": {
    "collapsed": true
   },
   "outputs": [],
   "source": [
    "aisles = pandas.read_csv('aisles.csv')\n",
    "dep = pandas.read_csv('departments.csv')\n",
    "ord_prd_pr = pandas.read_csv('order_products__prior.csv')\n",
    "ord_prd_tr = pandas.read_csv('order_products__train.csv')\n",
    "orders = pandas.read_csv('orders.csv')\n",
    "products = pandas.read_csv('products.csv')"
   ]
  },
  {
   "cell_type": "code",
   "execution_count": 31,
   "metadata": {
    "collapsed": true
   },
   "outputs": [],
   "source": [
    "train_user = pandas.read_csv('capstone-train-user_ids.csv')\n",
    "test_user = pandas.read_csv('capstone-test-user_ids.csv')"
   ]
  },
  {
   "cell_type": "code",
   "execution_count": 5,
   "metadata": {
    "collapsed": false
   },
   "outputs": [
    {
     "data": {
      "text/html": [
       "<div>\n",
       "<style>\n",
       "    .dataframe thead tr:only-child th {\n",
       "        text-align: right;\n",
       "    }\n",
       "\n",
       "    .dataframe thead th {\n",
       "        text-align: left;\n",
       "    }\n",
       "\n",
       "    .dataframe tbody tr th {\n",
       "        vertical-align: top;\n",
       "    }\n",
       "</style>\n",
       "<table border=\"1\" class=\"dataframe\">\n",
       "  <thead>\n",
       "    <tr style=\"text-align: right;\">\n",
       "      <th></th>\n",
       "      <th>aisle_id</th>\n",
       "      <th>aisle</th>\n",
       "    </tr>\n",
       "  </thead>\n",
       "  <tbody>\n",
       "    <tr>\n",
       "      <th>0</th>\n",
       "      <td>1</td>\n",
       "      <td>prepared soups salads</td>\n",
       "    </tr>\n",
       "    <tr>\n",
       "      <th>1</th>\n",
       "      <td>2</td>\n",
       "      <td>specialty cheeses</td>\n",
       "    </tr>\n",
       "    <tr>\n",
       "      <th>2</th>\n",
       "      <td>3</td>\n",
       "      <td>energy granola bars</td>\n",
       "    </tr>\n",
       "    <tr>\n",
       "      <th>3</th>\n",
       "      <td>4</td>\n",
       "      <td>instant foods</td>\n",
       "    </tr>\n",
       "    <tr>\n",
       "      <th>4</th>\n",
       "      <td>5</td>\n",
       "      <td>marinades meat preparation</td>\n",
       "    </tr>\n",
       "  </tbody>\n",
       "</table>\n",
       "</div>"
      ],
      "text/plain": [
       "   aisle_id                       aisle\n",
       "0         1       prepared soups salads\n",
       "1         2           specialty cheeses\n",
       "2         3         energy granola bars\n",
       "3         4               instant foods\n",
       "4         5  marinades meat preparation"
      ]
     },
     "execution_count": 5,
     "metadata": {},
     "output_type": "execute_result"
    }
   ],
   "source": [
    "aisles.head()"
   ]
  },
  {
   "cell_type": "code",
   "execution_count": 6,
   "metadata": {
    "collapsed": false
   },
   "outputs": [
    {
     "data": {
      "text/html": [
       "<div>\n",
       "<style>\n",
       "    .dataframe thead tr:only-child th {\n",
       "        text-align: right;\n",
       "    }\n",
       "\n",
       "    .dataframe thead th {\n",
       "        text-align: left;\n",
       "    }\n",
       "\n",
       "    .dataframe tbody tr th {\n",
       "        vertical-align: top;\n",
       "    }\n",
       "</style>\n",
       "<table border=\"1\" class=\"dataframe\">\n",
       "  <thead>\n",
       "    <tr style=\"text-align: right;\">\n",
       "      <th></th>\n",
       "      <th>department_id</th>\n",
       "      <th>department</th>\n",
       "    </tr>\n",
       "  </thead>\n",
       "  <tbody>\n",
       "    <tr>\n",
       "      <th>0</th>\n",
       "      <td>1</td>\n",
       "      <td>frozen</td>\n",
       "    </tr>\n",
       "    <tr>\n",
       "      <th>1</th>\n",
       "      <td>2</td>\n",
       "      <td>other</td>\n",
       "    </tr>\n",
       "    <tr>\n",
       "      <th>2</th>\n",
       "      <td>3</td>\n",
       "      <td>bakery</td>\n",
       "    </tr>\n",
       "    <tr>\n",
       "      <th>3</th>\n",
       "      <td>4</td>\n",
       "      <td>produce</td>\n",
       "    </tr>\n",
       "    <tr>\n",
       "      <th>4</th>\n",
       "      <td>5</td>\n",
       "      <td>alcohol</td>\n",
       "    </tr>\n",
       "  </tbody>\n",
       "</table>\n",
       "</div>"
      ],
      "text/plain": [
       "   department_id department\n",
       "0              1     frozen\n",
       "1              2      other\n",
       "2              3     bakery\n",
       "3              4    produce\n",
       "4              5    alcohol"
      ]
     },
     "execution_count": 6,
     "metadata": {},
     "output_type": "execute_result"
    }
   ],
   "source": [
    "dep.head()"
   ]
  },
  {
   "cell_type": "code",
   "execution_count": 7,
   "metadata": {
    "collapsed": false
   },
   "outputs": [
    {
     "data": {
      "text/html": [
       "<div>\n",
       "<style>\n",
       "    .dataframe thead tr:only-child th {\n",
       "        text-align: right;\n",
       "    }\n",
       "\n",
       "    .dataframe thead th {\n",
       "        text-align: left;\n",
       "    }\n",
       "\n",
       "    .dataframe tbody tr th {\n",
       "        vertical-align: top;\n",
       "    }\n",
       "</style>\n",
       "<table border=\"1\" class=\"dataframe\">\n",
       "  <thead>\n",
       "    <tr style=\"text-align: right;\">\n",
       "      <th></th>\n",
       "      <th>order_id</th>\n",
       "      <th>user_id</th>\n",
       "      <th>eval_set</th>\n",
       "      <th>order_number</th>\n",
       "      <th>order_dow</th>\n",
       "      <th>order_hour_of_day</th>\n",
       "      <th>days_since_prior_order</th>\n",
       "    </tr>\n",
       "  </thead>\n",
       "  <tbody>\n",
       "    <tr>\n",
       "      <th>0</th>\n",
       "      <td>2539329</td>\n",
       "      <td>1</td>\n",
       "      <td>prior</td>\n",
       "      <td>1</td>\n",
       "      <td>2</td>\n",
       "      <td>8</td>\n",
       "      <td>NaN</td>\n",
       "    </tr>\n",
       "    <tr>\n",
       "      <th>1</th>\n",
       "      <td>2398795</td>\n",
       "      <td>1</td>\n",
       "      <td>prior</td>\n",
       "      <td>2</td>\n",
       "      <td>3</td>\n",
       "      <td>7</td>\n",
       "      <td>15.0</td>\n",
       "    </tr>\n",
       "    <tr>\n",
       "      <th>2</th>\n",
       "      <td>473747</td>\n",
       "      <td>1</td>\n",
       "      <td>prior</td>\n",
       "      <td>3</td>\n",
       "      <td>3</td>\n",
       "      <td>12</td>\n",
       "      <td>21.0</td>\n",
       "    </tr>\n",
       "    <tr>\n",
       "      <th>3</th>\n",
       "      <td>2254736</td>\n",
       "      <td>1</td>\n",
       "      <td>prior</td>\n",
       "      <td>4</td>\n",
       "      <td>4</td>\n",
       "      <td>7</td>\n",
       "      <td>29.0</td>\n",
       "    </tr>\n",
       "    <tr>\n",
       "      <th>4</th>\n",
       "      <td>431534</td>\n",
       "      <td>1</td>\n",
       "      <td>prior</td>\n",
       "      <td>5</td>\n",
       "      <td>4</td>\n",
       "      <td>15</td>\n",
       "      <td>28.0</td>\n",
       "    </tr>\n",
       "  </tbody>\n",
       "</table>\n",
       "</div>"
      ],
      "text/plain": [
       "   order_id  user_id eval_set  order_number  order_dow  order_hour_of_day  \\\n",
       "0   2539329        1    prior             1          2                  8   \n",
       "1   2398795        1    prior             2          3                  7   \n",
       "2    473747        1    prior             3          3                 12   \n",
       "3   2254736        1    prior             4          4                  7   \n",
       "4    431534        1    prior             5          4                 15   \n",
       "\n",
       "   days_since_prior_order  \n",
       "0                     NaN  \n",
       "1                    15.0  \n",
       "2                    21.0  \n",
       "3                    29.0  \n",
       "4                    28.0  "
      ]
     },
     "execution_count": 7,
     "metadata": {},
     "output_type": "execute_result"
    }
   ],
   "source": [
    "orders.head()"
   ]
  },
  {
   "cell_type": "code",
   "execution_count": 38,
   "metadata": {
    "collapsed": false
   },
   "outputs": [
    {
     "data": {
      "text/html": [
       "<div>\n",
       "<style>\n",
       "    .dataframe thead tr:only-child th {\n",
       "        text-align: right;\n",
       "    }\n",
       "\n",
       "    .dataframe thead th {\n",
       "        text-align: left;\n",
       "    }\n",
       "\n",
       "    .dataframe tbody tr th {\n",
       "        vertical-align: top;\n",
       "    }\n",
       "</style>\n",
       "<table border=\"1\" class=\"dataframe\">\n",
       "  <thead>\n",
       "    <tr style=\"text-align: right;\">\n",
       "      <th></th>\n",
       "      <th>product_id</th>\n",
       "      <th>product_name</th>\n",
       "      <th>aisle_id</th>\n",
       "      <th>department_id</th>\n",
       "    </tr>\n",
       "  </thead>\n",
       "  <tbody>\n",
       "    <tr>\n",
       "      <th>0</th>\n",
       "      <td>1</td>\n",
       "      <td>Chocolate Sandwich Cookies</td>\n",
       "      <td>61</td>\n",
       "      <td>19</td>\n",
       "    </tr>\n",
       "    <tr>\n",
       "      <th>1</th>\n",
       "      <td>2</td>\n",
       "      <td>All-Seasons Salt</td>\n",
       "      <td>104</td>\n",
       "      <td>13</td>\n",
       "    </tr>\n",
       "    <tr>\n",
       "      <th>2</th>\n",
       "      <td>3</td>\n",
       "      <td>Robust Golden Unsweetened Oolong Tea</td>\n",
       "      <td>94</td>\n",
       "      <td>7</td>\n",
       "    </tr>\n",
       "    <tr>\n",
       "      <th>3</th>\n",
       "      <td>4</td>\n",
       "      <td>Smart Ones Classic Favorites Mini Rigatoni Wit...</td>\n",
       "      <td>38</td>\n",
       "      <td>1</td>\n",
       "    </tr>\n",
       "    <tr>\n",
       "      <th>4</th>\n",
       "      <td>5</td>\n",
       "      <td>Green Chile Anytime Sauce</td>\n",
       "      <td>5</td>\n",
       "      <td>13</td>\n",
       "    </tr>\n",
       "  </tbody>\n",
       "</table>\n",
       "</div>"
      ],
      "text/plain": [
       "   product_id                                       product_name  aisle_id  \\\n",
       "0           1                         Chocolate Sandwich Cookies        61   \n",
       "1           2                                   All-Seasons Salt       104   \n",
       "2           3               Robust Golden Unsweetened Oolong Tea        94   \n",
       "3           4  Smart Ones Classic Favorites Mini Rigatoni Wit...        38   \n",
       "4           5                          Green Chile Anytime Sauce         5   \n",
       "\n",
       "   department_id  \n",
       "0             19  \n",
       "1             13  \n",
       "2              7  \n",
       "3              1  \n",
       "4             13  "
      ]
     },
     "execution_count": 38,
     "metadata": {},
     "output_type": "execute_result"
    }
   ],
   "source": [
    "products.head()"
   ]
  },
  {
   "cell_type": "code",
   "execution_count": 9,
   "metadata": {
    "collapsed": false
   },
   "outputs": [
    {
     "data": {
      "text/html": [
       "<div>\n",
       "<style>\n",
       "    .dataframe thead tr:only-child th {\n",
       "        text-align: right;\n",
       "    }\n",
       "\n",
       "    .dataframe thead th {\n",
       "        text-align: left;\n",
       "    }\n",
       "\n",
       "    .dataframe tbody tr th {\n",
       "        vertical-align: top;\n",
       "    }\n",
       "</style>\n",
       "<table border=\"1\" class=\"dataframe\">\n",
       "  <thead>\n",
       "    <tr style=\"text-align: right;\">\n",
       "      <th></th>\n",
       "      <th>order_id</th>\n",
       "    </tr>\n",
       "    <tr>\n",
       "      <th>eval_set</th>\n",
       "      <th></th>\n",
       "    </tr>\n",
       "  </thead>\n",
       "  <tbody>\n",
       "    <tr>\n",
       "      <th>prior</th>\n",
       "      <td>3214874</td>\n",
       "    </tr>\n",
       "    <tr>\n",
       "      <th>test</th>\n",
       "      <td>75000</td>\n",
       "    </tr>\n",
       "    <tr>\n",
       "      <th>train</th>\n",
       "      <td>131209</td>\n",
       "    </tr>\n",
       "  </tbody>\n",
       "</table>\n",
       "</div>"
      ],
      "text/plain": [
       "          order_id\n",
       "eval_set          \n",
       "prior      3214874\n",
       "test         75000\n",
       "train       131209"
      ]
     },
     "execution_count": 9,
     "metadata": {},
     "output_type": "execute_result"
    }
   ],
   "source": [
    "orders[['order_id', 'eval_set']].groupby('eval_set').count()"
   ]
  },
  {
   "cell_type": "code",
   "execution_count": 32,
   "metadata": {
    "collapsed": false
   },
   "outputs": [
    {
     "data": {
      "text/html": [
       "<div>\n",
       "<style>\n",
       "    .dataframe thead tr:only-child th {\n",
       "        text-align: right;\n",
       "    }\n",
       "\n",
       "    .dataframe thead th {\n",
       "        text-align: left;\n",
       "    }\n",
       "\n",
       "    .dataframe tbody tr th {\n",
       "        vertical-align: top;\n",
       "    }\n",
       "</style>\n",
       "<table border=\"1\" class=\"dataframe\">\n",
       "  <thead>\n",
       "    <tr style=\"text-align: right;\">\n",
       "      <th></th>\n",
       "      <th>user_id</th>\n",
       "    </tr>\n",
       "  </thead>\n",
       "  <tbody>\n",
       "    <tr>\n",
       "      <th>0</th>\n",
       "      <td>2</td>\n",
       "    </tr>\n",
       "    <tr>\n",
       "      <th>1</th>\n",
       "      <td>5</td>\n",
       "    </tr>\n",
       "    <tr>\n",
       "      <th>2</th>\n",
       "      <td>8</td>\n",
       "    </tr>\n",
       "  </tbody>\n",
       "</table>\n",
       "</div>"
      ],
      "text/plain": [
       "   user_id\n",
       "0        2\n",
       "1        5\n",
       "2        8"
      ]
     },
     "execution_count": 32,
     "metadata": {},
     "output_type": "execute_result"
    }
   ],
   "source": [
    "train_user.columns = ['user_id']\n",
    "train_user[:3]"
   ]
  },
  {
   "cell_type": "code",
   "execution_count": 33,
   "metadata": {
    "collapsed": false
   },
   "outputs": [
    {
     "data": {
      "text/html": [
       "<div>\n",
       "<style>\n",
       "    .dataframe thead tr:only-child th {\n",
       "        text-align: right;\n",
       "    }\n",
       "\n",
       "    .dataframe thead th {\n",
       "        text-align: left;\n",
       "    }\n",
       "\n",
       "    .dataframe tbody tr th {\n",
       "        vertical-align: top;\n",
       "    }\n",
       "</style>\n",
       "<table border=\"1\" class=\"dataframe\">\n",
       "  <thead>\n",
       "    <tr style=\"text-align: right;\">\n",
       "      <th></th>\n",
       "      <th>user_id</th>\n",
       "    </tr>\n",
       "  </thead>\n",
       "  <tbody>\n",
       "    <tr>\n",
       "      <th>0</th>\n",
       "      <td>126694</td>\n",
       "    </tr>\n",
       "    <tr>\n",
       "      <th>1</th>\n",
       "      <td>61930</td>\n",
       "    </tr>\n",
       "    <tr>\n",
       "      <th>2</th>\n",
       "      <td>22291</td>\n",
       "    </tr>\n",
       "  </tbody>\n",
       "</table>\n",
       "</div>"
      ],
      "text/plain": [
       "   user_id\n",
       "0   126694\n",
       "1    61930\n",
       "2    22291"
      ]
     },
     "execution_count": 33,
     "metadata": {},
     "output_type": "execute_result"
    }
   ],
   "source": [
    "test_user.columns = ['user_id']\n",
    "test_user[:3]"
   ]
  },
  {
   "cell_type": "code",
   "execution_count": 27,
   "metadata": {
    "collapsed": false
   },
   "outputs": [
    {
     "data": {
      "text/plain": [
       "<matplotlib.text.Text at 0x1c5909973c8>"
      ]
     },
     "execution_count": 27,
     "metadata": {},
     "output_type": "execute_result"
    },
    {
     "data": {
      "image/png": "[encoded data removed]",
      "text/plain": [
       "<matplotlib.figure.Figure at 0x1c5817feef0>"
      ]
     },
     "metadata": {},
     "output_type": "display_data"
    }
   ],
   "source": [
    "#get distribution of number of orders per customer\n",
    "customerNumOrderFrame = orders.groupby(\"user_id\",\n",
    "                                        as_index = False)[\"order_number\"].max()\n",
    "plt.hist(customerNumOrderFrame[\"order_number\"], bins=20)\n",
    "plt.xlabel(\"Number of Orders\")\n",
    "plt.ylabel(\"Count\")\n",
    "plt.title(\"Distribution of Number of Orders\\nPer Customer\")"
   ]
  },
  {
   "cell_type": "markdown",
   "metadata": {},
   "source": [
    "## Explore products, aisles, and departments"
   ]
  },
  {
   "cell_type": "code",
   "execution_count": 18,
   "metadata": {
    "collapsed": false
   },
   "outputs": [
    {
     "data": {
      "text/html": [
       "<div>\n",
       "<style>\n",
       "    .dataframe thead tr:only-child th {\n",
       "        text-align: right;\n",
       "    }\n",
       "\n",
       "    .dataframe thead th {\n",
       "        text-align: left;\n",
       "    }\n",
       "\n",
       "    .dataframe tbody tr th {\n",
       "        vertical-align: top;\n",
       "    }\n",
       "</style>\n",
       "<table border=\"1\" class=\"dataframe\">\n",
       "  <thead>\n",
       "    <tr style=\"text-align: right;\">\n",
       "      <th></th>\n",
       "      <th>product_id</th>\n",
       "      <th>product_name</th>\n",
       "      <th>aisle_id</th>\n",
       "      <th>department_id</th>\n",
       "      <th>aisle</th>\n",
       "      <th>department</th>\n",
       "    </tr>\n",
       "  </thead>\n",
       "  <tbody>\n",
       "    <tr>\n",
       "      <th>0</th>\n",
       "      <td>1</td>\n",
       "      <td>Chocolate Sandwich Cookies</td>\n",
       "      <td>61</td>\n",
       "      <td>19</td>\n",
       "      <td>cookies cakes</td>\n",
       "      <td>snacks</td>\n",
       "    </tr>\n",
       "    <tr>\n",
       "      <th>1</th>\n",
       "      <td>78</td>\n",
       "      <td>Nutter Butter Cookie Bites Go-Pak</td>\n",
       "      <td>61</td>\n",
       "      <td>19</td>\n",
       "      <td>cookies cakes</td>\n",
       "      <td>snacks</td>\n",
       "    </tr>\n",
       "    <tr>\n",
       "      <th>2</th>\n",
       "      <td>102</td>\n",
       "      <td>Danish Butter Cookies</td>\n",
       "      <td>61</td>\n",
       "      <td>19</td>\n",
       "      <td>cookies cakes</td>\n",
       "      <td>snacks</td>\n",
       "    </tr>\n",
       "    <tr>\n",
       "      <th>3</th>\n",
       "      <td>172</td>\n",
       "      <td>Gluten Free All Natural Chocolate Chip Cookies</td>\n",
       "      <td>61</td>\n",
       "      <td>19</td>\n",
       "      <td>cookies cakes</td>\n",
       "      <td>snacks</td>\n",
       "    </tr>\n",
       "    <tr>\n",
       "      <th>4</th>\n",
       "      <td>285</td>\n",
       "      <td>Mini Nilla Wafers Munch Pack</td>\n",
       "      <td>61</td>\n",
       "      <td>19</td>\n",
       "      <td>cookies cakes</td>\n",
       "      <td>snacks</td>\n",
       "    </tr>\n",
       "  </tbody>\n",
       "</table>\n",
       "</div>"
      ],
      "text/plain": [
       "   product_id                                    product_name  aisle_id  \\\n",
       "0           1                      Chocolate Sandwich Cookies        61   \n",
       "1          78               Nutter Butter Cookie Bites Go-Pak        61   \n",
       "2         102                           Danish Butter Cookies        61   \n",
       "3         172  Gluten Free All Natural Chocolate Chip Cookies        61   \n",
       "4         285                    Mini Nilla Wafers Munch Pack        61   \n",
       "\n",
       "   department_id          aisle department  \n",
       "0             19  cookies cakes     snacks  \n",
       "1             19  cookies cakes     snacks  \n",
       "2             19  cookies cakes     snacks  \n",
       "3             19  cookies cakes     snacks  \n",
       "4             19  cookies cakes     snacks  "
      ]
     },
     "execution_count": 18,
     "metadata": {},
     "output_type": "execute_result"
    }
   ],
   "source": [
    "prod_all = pandas.merge(products, aisles, how='inner', left_on='aisle_id', right_on='aisle_id')\n",
    "prod_all = pandas.merge(prod_all, dep, \\\n",
    "                            how='inner', left_on='department_id', right_on='department_id')\n",
    "prod_all.head()"
   ]
  },
  {
   "cell_type": "code",
   "execution_count": 22,
   "metadata": {
    "collapsed": false
   },
   "outputs": [
    {
     "data": {
      "text/plain": [
       "aisle\n",
       "missing                 1258\n",
       "candy chocolate         1246\n",
       "ice cream ice           1091\n",
       "vitamins supplements    1038\n",
       "yogurt                  1026\n",
       "Name: product_name, dtype: int64"
      ]
     },
     "execution_count": 22,
     "metadata": {},
     "output_type": "execute_result"
    }
   ],
   "source": [
    "# number of products in each aisle\n",
    "prod_group = prod_all['product_name'].groupby(prod_all['aisle']).count()\n",
    "prod_group.sort_values(ascending=False).head()"
   ]
  },
  {
   "cell_type": "code",
   "execution_count": 23,
   "metadata": {
    "collapsed": false
   },
   "outputs": [
    {
     "data": {
      "text/plain": [
       "department\n",
       "alcohol             5\n",
       "babies              4\n",
       "bakery              5\n",
       "beverages           8\n",
       "breakfast           4\n",
       "bulk                2\n",
       "canned goods        5\n",
       "dairy eggs         10\n",
       "deli                5\n",
       "dry goods pasta     5\n",
       "frozen             11\n",
       "household          10\n",
       "international       4\n",
       "meat seafood        7\n",
       "missing             1\n",
       "other               1\n",
       "pantry             12\n",
       "personal care      17\n",
       "pets                2\n",
       "produce             5\n",
       "snacks             11\n",
       "Name: aisle, dtype: int64"
      ]
     },
     "execution_count": 23,
     "metadata": {},
     "output_type": "execute_result"
    }
   ],
   "source": [
    "# Group the full dataframe by department & aisle.\n",
    "ais_group = prod_all.groupby(['department','aisle']).size().reset_index().rename(columns={0:'count'})\n",
    "# Group the grouped dataframe by department to get aisle count.\n",
    "dep_group = ais_group['aisle'].groupby(ais_group['department']).count()\n",
    "dep_group"
   ]
  },
  {
   "cell_type": "markdown",
   "metadata": {},
   "source": [
    "## Explore product, department, and aisle data"
   ]
  },
  {
   "cell_type": "code",
   "execution_count": 25,
   "metadata": {
    "collapsed": false
   },
   "outputs": [
    {
     "data": {
      "text/html": [
       "<div>\n",
       "<style>\n",
       "    .dataframe thead tr:only-child th {\n",
       "        text-align: right;\n",
       "    }\n",
       "\n",
       "    .dataframe thead th {\n",
       "        text-align: left;\n",
       "    }\n",
       "\n",
       "    .dataframe tbody tr th {\n",
       "        vertical-align: top;\n",
       "    }\n",
       "</style>\n",
       "<table border=\"1\" class=\"dataframe\">\n",
       "  <thead>\n",
       "    <tr style=\"text-align: right;\">\n",
       "      <th></th>\n",
       "      <th>order_id</th>\n",
       "      <th>product_id</th>\n",
       "      <th>add_to_cart_order</th>\n",
       "      <th>reordered</th>\n",
       "      <th>product_name</th>\n",
       "      <th>aisle_id</th>\n",
       "      <th>department_id</th>\n",
       "      <th>aisle</th>\n",
       "      <th>department</th>\n",
       "    </tr>\n",
       "  </thead>\n",
       "  <tbody>\n",
       "    <tr>\n",
       "      <th>0</th>\n",
       "      <td>2</td>\n",
       "      <td>33120</td>\n",
       "      <td>1</td>\n",
       "      <td>1</td>\n",
       "      <td>Organic Egg Whites</td>\n",
       "      <td>86</td>\n",
       "      <td>16</td>\n",
       "      <td>eggs</td>\n",
       "      <td>dairy eggs</td>\n",
       "    </tr>\n",
       "    <tr>\n",
       "      <th>1</th>\n",
       "      <td>26</td>\n",
       "      <td>33120</td>\n",
       "      <td>5</td>\n",
       "      <td>0</td>\n",
       "      <td>Organic Egg Whites</td>\n",
       "      <td>86</td>\n",
       "      <td>16</td>\n",
       "      <td>eggs</td>\n",
       "      <td>dairy eggs</td>\n",
       "    </tr>\n",
       "    <tr>\n",
       "      <th>2</th>\n",
       "      <td>120</td>\n",
       "      <td>33120</td>\n",
       "      <td>13</td>\n",
       "      <td>0</td>\n",
       "      <td>Organic Egg Whites</td>\n",
       "      <td>86</td>\n",
       "      <td>16</td>\n",
       "      <td>eggs</td>\n",
       "      <td>dairy eggs</td>\n",
       "    </tr>\n",
       "    <tr>\n",
       "      <th>3</th>\n",
       "      <td>327</td>\n",
       "      <td>33120</td>\n",
       "      <td>5</td>\n",
       "      <td>1</td>\n",
       "      <td>Organic Egg Whites</td>\n",
       "      <td>86</td>\n",
       "      <td>16</td>\n",
       "      <td>eggs</td>\n",
       "      <td>dairy eggs</td>\n",
       "    </tr>\n",
       "    <tr>\n",
       "      <th>4</th>\n",
       "      <td>390</td>\n",
       "      <td>33120</td>\n",
       "      <td>28</td>\n",
       "      <td>1</td>\n",
       "      <td>Organic Egg Whites</td>\n",
       "      <td>86</td>\n",
       "      <td>16</td>\n",
       "      <td>eggs</td>\n",
       "      <td>dairy eggs</td>\n",
       "    </tr>\n",
       "  </tbody>\n",
       "</table>\n",
       "</div>"
      ],
      "text/plain": [
       "   order_id  product_id  add_to_cart_order  reordered        product_name  \\\n",
       "0         2       33120                  1          1  Organic Egg Whites   \n",
       "1        26       33120                  5          0  Organic Egg Whites   \n",
       "2       120       33120                 13          0  Organic Egg Whites   \n",
       "3       327       33120                  5          1  Organic Egg Whites   \n",
       "4       390       33120                 28          1  Organic Egg Whites   \n",
       "\n",
       "   aisle_id  department_id aisle  department  \n",
       "0        86             16  eggs  dairy eggs  \n",
       "1        86             16  eggs  dairy eggs  \n",
       "2        86             16  eggs  dairy eggs  \n",
       "3        86             16  eggs  dairy eggs  \n",
       "4        86             16  eggs  dairy eggs  "
      ]
     },
     "execution_count": 25,
     "metadata": {},
     "output_type": "execute_result"
    }
   ],
   "source": [
    "order_prod_all = pandas.merge(ord_prd_pr, prod_all, how='inner', left_on='product_id', right_on='product_id')\n",
    "order_prod_all.head()"
   ]
  },
  {
   "cell_type": "code",
   "execution_count": 26,
   "metadata": {
    "collapsed": false
   },
   "outputs": [
    {
     "data": {
      "text/html": [
       "<div>\n",
       "<style>\n",
       "    .dataframe thead tr:only-child th {\n",
       "        text-align: right;\n",
       "    }\n",
       "\n",
       "    .dataframe thead th {\n",
       "        text-align: left;\n",
       "    }\n",
       "\n",
       "    .dataframe tbody tr th {\n",
       "        vertical-align: top;\n",
       "    }\n",
       "</style>\n",
       "<table border=\"1\" class=\"dataframe\">\n",
       "  <thead>\n",
       "    <tr style=\"text-align: right;\">\n",
       "      <th></th>\n",
       "      <th>order_id</th>\n",
       "      <th>product_id</th>\n",
       "      <th>add_to_cart_order</th>\n",
       "      <th>reordered</th>\n",
       "      <th>product_name</th>\n",
       "      <th>aisle_id</th>\n",
       "      <th>department_id</th>\n",
       "      <th>aisle</th>\n",
       "      <th>department</th>\n",
       "      <th>product_count</th>\n",
       "      <th>add_to_cart_max</th>\n",
       "      <th>match</th>\n",
       "    </tr>\n",
       "  </thead>\n",
       "  <tbody>\n",
       "    <tr>\n",
       "      <th>0</th>\n",
       "      <td>2</td>\n",
       "      <td>33120</td>\n",
       "      <td>1</td>\n",
       "      <td>1</td>\n",
       "      <td>Organic Egg Whites</td>\n",
       "      <td>86</td>\n",
       "      <td>16</td>\n",
       "      <td>eggs</td>\n",
       "      <td>dairy eggs</td>\n",
       "      <td>9</td>\n",
       "      <td>9</td>\n",
       "      <td>True</td>\n",
       "    </tr>\n",
       "    <tr>\n",
       "      <th>1</th>\n",
       "      <td>26</td>\n",
       "      <td>33120</td>\n",
       "      <td>5</td>\n",
       "      <td>0</td>\n",
       "      <td>Organic Egg Whites</td>\n",
       "      <td>86</td>\n",
       "      <td>16</td>\n",
       "      <td>eggs</td>\n",
       "      <td>dairy eggs</td>\n",
       "      <td>8</td>\n",
       "      <td>8</td>\n",
       "      <td>True</td>\n",
       "    </tr>\n",
       "    <tr>\n",
       "      <th>2</th>\n",
       "      <td>120</td>\n",
       "      <td>33120</td>\n",
       "      <td>13</td>\n",
       "      <td>0</td>\n",
       "      <td>Organic Egg Whites</td>\n",
       "      <td>86</td>\n",
       "      <td>16</td>\n",
       "      <td>eggs</td>\n",
       "      <td>dairy eggs</td>\n",
       "      <td>16</td>\n",
       "      <td>16</td>\n",
       "      <td>True</td>\n",
       "    </tr>\n",
       "    <tr>\n",
       "      <th>3</th>\n",
       "      <td>327</td>\n",
       "      <td>33120</td>\n",
       "      <td>5</td>\n",
       "      <td>1</td>\n",
       "      <td>Organic Egg Whites</td>\n",
       "      <td>86</td>\n",
       "      <td>16</td>\n",
       "      <td>eggs</td>\n",
       "      <td>dairy eggs</td>\n",
       "      <td>8</td>\n",
       "      <td>8</td>\n",
       "      <td>True</td>\n",
       "    </tr>\n",
       "    <tr>\n",
       "      <th>4</th>\n",
       "      <td>390</td>\n",
       "      <td>33120</td>\n",
       "      <td>28</td>\n",
       "      <td>1</td>\n",
       "      <td>Organic Egg Whites</td>\n",
       "      <td>86</td>\n",
       "      <td>16</td>\n",
       "      <td>eggs</td>\n",
       "      <td>dairy eggs</td>\n",
       "      <td>34</td>\n",
       "      <td>34</td>\n",
       "      <td>True</td>\n",
       "    </tr>\n",
       "  </tbody>\n",
       "</table>\n",
       "</div>"
      ],
      "text/plain": [
       "   order_id  product_id  add_to_cart_order  reordered        product_name  \\\n",
       "0         2       33120                  1          1  Organic Egg Whites   \n",
       "1        26       33120                  5          0  Organic Egg Whites   \n",
       "2       120       33120                 13          0  Organic Egg Whites   \n",
       "3       327       33120                  5          1  Organic Egg Whites   \n",
       "4       390       33120                 28          1  Organic Egg Whites   \n",
       "\n",
       "   aisle_id  department_id aisle  department  product_count  add_to_cart_max  \\\n",
       "0        86             16  eggs  dairy eggs              9                9   \n",
       "1        86             16  eggs  dairy eggs              8                8   \n",
       "2        86             16  eggs  dairy eggs             16               16   \n",
       "3        86             16  eggs  dairy eggs              8                8   \n",
       "4        86             16  eggs  dairy eggs             34               34   \n",
       "\n",
       "   match  \n",
       "0   True  \n",
       "1   True  \n",
       "2   True  \n",
       "3   True  \n",
       "4   True  "
      ]
     },
     "execution_count": 26,
     "metadata": {},
     "output_type": "execute_result"
    }
   ],
   "source": [
    "# Add a column to count the number of products in each order.\n",
    "order_prod_all['product_count'] = order_prod_all.groupby('order_id')['order_id'].transform('count')\n",
    "\n",
    "# Now add a column to find the maximum 'add_to_cart_order' order for each order.\n",
    "order_prod_all['add_to_cart_max'] = order_prod_all.groupby('order_id')['add_to_cart_order'].transform('max')\n",
    "\n",
    "# Add a column to check if these values match.\n",
    "order_prod_all['match'] = np.where(order_prod_all['product_count']==order_prod_all['add_to_cart_max'],\n",
    "                                          True, False)\n",
    "order_prod_all.head()"
   ]
  },
  {
   "cell_type": "code",
   "execution_count": 28,
   "metadata": {
    "collapsed": false
   },
   "outputs": [
    {
     "data": {
      "text/plain": [
       "array([ True], dtype=bool)"
      ]
     },
     "execution_count": 28,
     "metadata": {},
     "output_type": "execute_result"
    }
   ],
   "source": [
    "# Now check to see if all match values are True.\n",
    "order_prod_all['match'].unique()"
   ]
  },
  {
   "cell_type": "code",
   "execution_count": 30,
   "metadata": {
    "collapsed": false
   },
   "outputs": [
    {
     "data": {
      "image/png": "[encoded data removed]",
      "text/plain": [
       "<matplotlib.figure.Figure at 0x1bd814804e0>"
      ]
     },
     "metadata": {},
     "output_type": "display_data"
    }
   ],
   "source": [
    "number_bins = order_prod_all['product_count'].max()\n",
    "plt.figure(num=1,figsize=(14,6))\n",
    "plt.hist(order_prod_all['product_count'], bins=number_bins)\n",
    "plt.xlabel('Number of products in order')\n",
    "plt.ylabel('Number of orders')\n",
    "plt.title('Number of products per order')\n",
    "plt.ticklabel_format(style='plain')\n",
    "plt.xlim(0,number_bins)\n",
    "plt.show()"
   ]
  },
  {
   "cell_type": "code",
   "execution_count": 56,
   "metadata": {
    "collapsed": false
   },
   "outputs": [
    {
     "data": {
      "text/plain": [
       "48622"
      ]
     },
     "execution_count": 56,
     "metadata": {},
     "output_type": "execute_result"
    }
   ],
   "source": [
    "del order_prod_all\n",
    "del prod_all\n",
    "gc.collect()"
   ]
  },
  {
   "cell_type": "code",
   "execution_count": 35,
   "metadata": {
    "collapsed": false
   },
   "outputs": [
    {
     "data": {
      "text/plain": [
       "product_id         int64\n",
       "product_name    category\n",
       "department        object\n",
       "aisle             object\n",
       "dtype: object"
      ]
     },
     "execution_count": 35,
     "metadata": {},
     "output_type": "execute_result"
    }
   ],
   "source": [
    "products.dtypes"
   ]
  },
  {
   "cell_type": "markdown",
   "metadata": {},
   "source": [
    "## Data Preparing"
   ]
  },
  {
   "cell_type": "code",
   "execution_count": 3,
   "metadata": {
    "collapsed": true
   },
   "outputs": [],
   "source": [
    "aisles['aisle'] = aisles['aisle'].astype('category')\n",
    "dep['department'] = dep['department'].astype('category')\n",
    "orders['eval_set'] = orders['eval_set'].astype('category')\n",
    "products['product_name'] = products['product_name'].astype('category')\n",
    "\n",
    "orders.order_dow = orders.order_dow.astype(np.int8)\n",
    "orders.order_hour_of_day = orders.order_hour_of_day.astype(np.int8)\n",
    "orders.order_number = orders.order_number.astype(np.int16)\n",
    "orders.order_id = orders.order_id.astype(np.int32)\n",
    "orders.user_id = orders.user_id.astype(np.int32)\n",
    "orders.days_since_prior_order = orders.days_since_prior_order.astype(np.float32)\n",
    "\n",
    "products.aisle_id = products.aisle_id.astype(np.int8)\n",
    "products.department_id = products.department_id.astype(np.int8)\n",
    "products.product_id = products.product_id.astype(np.int32)\n",
    "\n",
    "ord_prd_tr.reordered = ord_prd_tr.reordered.astype(np.int8)\n",
    "ord_prd_tr.add_to_cart_order = ord_prd_tr.add_to_cart_order.astype(np.int16)\n",
    "\n",
    "ord_prd_pr.order_id = ord_prd_pr.order_id.astype(np.int32)\n",
    "ord_prd_pr.add_to_cart_order = ord_prd_pr.add_to_cart_order.astype(np.int16)\n",
    "ord_prd_pr.reordered = ord_prd_pr.reordered.astype(np.int8)\n",
    "ord_prd_pr.product_id = ord_prd_pr.product_id.astype(np.int32)"
   ]
  },
  {
   "cell_type": "code",
   "execution_count": 4,
   "metadata": {
    "collapsed": true
   },
   "outputs": [],
   "source": [
    "frames = [products, dep, aisles] # merge together of 3\n",
    "\n",
    "products.dtypes\n",
    "\n",
    "products = pandas.concat(frames, axis = 1)\n",
    "products.drop(['department_id'], axis = 1, inplace = True)\n",
    "products.drop(['aisle_id'], axis = 1, inplace = True)\n",
    "\n",
    "ord_prd_tr = ord_prd_tr.merge(orders[['user_id','order_id']], how = 'inner', left_on = 'order_id', right_on = 'order_id')\n",
    "\n",
    "orders_products = orders.merge(ord_prd_pr, how = 'inner', on = 'order_id')\n",
    "\n",
    "prod_sort = orders_products.sort_values(['user_id', 'order_number', 'product_id'], ascending=True)\n",
    "\n",
    "prod_sort = prod_sort.assign(product_time = prod_sort.groupby(['user_id', 'product_id']).cumcount()+1)\n",
    "\n",
    "sub1 = prod_sort[prod_sort['product_time'] == 1].groupby('product_id').size().to_frame('prod_first_orders')\n",
    "sub2 = prod_sort[prod_sort['product_time'] == 2].groupby('product_id').size().to_frame('prod_second_orders')\n",
    "\n",
    "sub1['prod_orders'] = prod_sort.groupby('product_id')['product_id'].size()\n",
    "sub1['prod_reorders'] = prod_sort.groupby('product_id')['reordered'].sum()\n",
    "sub2 = sub2.reset_index().merge(sub1.reset_index())\n",
    "\n",
    "sub2['prod_reorder_probability'] = sub2['prod_second_orders']/sub2['prod_first_orders']\n",
    "sub2['prod_reorder_times'] = 1 + sub2['prod_reorders']/sub2['prod_first_orders']\n",
    "sub2['prod_reorder_ratio'] = sub2['prod_reorders']/sub2['prod_orders']\n",
    "prd = sub2[['product_id', 'prod_orders','prod_reorder_probability', 'prod_reorder_times', 'prod_reorder_ratio']]\n",
    "\n",
    "users = orders[orders['eval_set'] == 'prior'].groupby(['user_id'])['order_number'].max().to_frame('user_orders')\n",
    "users['user_period'] = orders[orders['eval_set'] == 'prior'].groupby(['user_id'])['days_since_prior_order'].sum()\n",
    "users['user_mean_days_since_prior'] = orders[orders['eval_set'] == 'prior'].groupby(['user_id'])['days_since_prior_order'].mean()\n",
    "\n",
    "user_all = orders_products.groupby('user_id').size().to_frame('user_total_products')\n",
    "user_all['eq_1'] = orders_products[orders_products['reordered'] == 1].groupby('user_id')['product_id'].size()\n",
    "user_all['gt_1'] = orders_products[orders_products['order_number'] > 1].groupby('user_id')['product_id'].size()\n",
    "\n",
    "user_all['user_reorder_ratio'] = user_all['eq_1'] / user_all['gt_1']\n",
    "user_all.drop(['eq_1', 'gt_1'], axis = 1, inplace = True)\n",
    "user_all['user_distinct_products'] = orders_products.groupby(['user_id'])['product_id'].nunique()\n",
    "\n",
    "users = users.reset_index().merge(user_all.reset_index())\n",
    "users['user_average_basket'] = users['user_total_products'] / users['user_orders']\n",
    "\n",
    "user_all = orders[orders['eval_set'] != 'prior']\n",
    "user_all = user_all[['user_id', 'order_id', 'eval_set', 'days_since_prior_order']]\n",
    "\n",
    "users = users.merge(user_all)"
   ]
  },
  {
   "cell_type": "code",
   "execution_count": 21,
   "metadata": {
    "collapsed": true
   },
   "outputs": [],
   "source": [
    "# merge orders and products then group by user and product and calculating features for the user/product combination\n",
    "data = orders_products.groupby(['user_id', 'product_id']).size().to_frame('up_orders')\n",
    "data['up_first_order'] = orders_products.groupby(['user_id', 'product_id'])['order_number'].min()\n",
    "data['up_last_order'] = orders_products.groupby(['user_id', 'product_id'])['order_number'].max()\n",
    "data['up_average_cart_position'] = orders_products.groupby(['user_id', 'product_id'])['add_to_cart_order'].mean()\n",
    "data = data.reset_index()\n",
    "\n",
    "#merge previous data with users data\n",
    "data = data.merge(prd, on = 'product_id')\n",
    "data = data.merge(users, on = 'user_id')\n",
    "\n",
    "#user/product combination features about the particular order\n",
    "data['up_order_rate'] = data['up_orders'] / data['user_orders']\n",
    "data['up_orders_since_last_order'] = data['user_orders'] - data['up_last_order']\n",
    "data['up_order_rate_since_first_order'] = data['up_orders'] / (data['user_orders'] - data['up_first_order'] + 1)\n",
    "data = data.merge(ord_prd_tr[['user_id', 'product_id', 'reordered']], how = 'left', on = ['user_id', 'product_id'])"
   ]
  },
  {
   "cell_type": "code",
   "execution_count": 7,
   "metadata": {
    "collapsed": false
   },
   "outputs": [
    {
     "data": {
      "text/plain": [
       "['user_id',\n",
       " 'product_id',\n",
       " 'up_orders',\n",
       " 'up_first_order',\n",
       " 'up_last_order',\n",
       " 'up_average_cart_position',\n",
       " 'prod_orders',\n",
       " 'prod_reorder_probability',\n",
       " 'prod_reorder_times',\n",
       " 'prod_reorder_ratio',\n",
       " 'user_orders',\n",
       " 'user_period',\n",
       " 'user_mean_days_since_prior',\n",
       " 'user_total_products',\n",
       " 'user_reorder_ratio',\n",
       " 'user_distinct_products',\n",
       " 'user_average_basket',\n",
       " 'order_id',\n",
       " 'eval_set',\n",
       " 'days_since_prior_order',\n",
       " 'up_order_rate',\n",
       " 'up_orders_since_last_order',\n",
       " 'up_order_rate_since_first_order',\n",
       " 'reordered']"
      ]
     },
     "execution_count": 7,
     "metadata": {},
     "output_type": "execute_result"
    }
   ],
   "source": [
    "list(data.columns.values)"
   ]
  },
  {
   "cell_type": "code",
   "execution_count": 8,
   "metadata": {
    "collapsed": false
   },
   "outputs": [
    {
     "data": {
      "text/plain": [
       "13278023"
      ]
     },
     "execution_count": 8,
     "metadata": {},
     "output_type": "execute_result"
    }
   ],
   "source": [
    "len(data)"
   ]
  },
  {
   "cell_type": "code",
   "execution_count": 22,
   "metadata": {
    "collapsed": false
   },
   "outputs": [
    {
     "data": {
      "text/html": [
       "<div>\n",
       "<style>\n",
       "    .dataframe thead tr:only-child th {\n",
       "        text-align: right;\n",
       "    }\n",
       "\n",
       "    .dataframe thead th {\n",
       "        text-align: left;\n",
       "    }\n",
       "\n",
       "    .dataframe tbody tr th {\n",
       "        vertical-align: top;\n",
       "    }\n",
       "</style>\n",
       "<table border=\"1\" class=\"dataframe\">\n",
       "  <thead>\n",
       "    <tr style=\"text-align: right;\">\n",
       "      <th></th>\n",
       "      <th>user_id</th>\n",
       "      <th>product_id</th>\n",
       "      <th>up_orders</th>\n",
       "      <th>up_first_order</th>\n",
       "      <th>up_last_order</th>\n",
       "      <th>up_average_cart_position</th>\n",
       "      <th>prod_orders</th>\n",
       "      <th>prod_reorder_probability</th>\n",
       "      <th>prod_reorder_times</th>\n",
       "      <th>prod_reorder_ratio</th>\n",
       "      <th>...</th>\n",
       "      <th>user_reorder_ratio</th>\n",
       "      <th>user_distinct_products</th>\n",
       "      <th>user_average_basket</th>\n",
       "      <th>order_id</th>\n",
       "      <th>eval_set</th>\n",
       "      <th>days_since_prior_order</th>\n",
       "      <th>up_order_rate</th>\n",
       "      <th>up_orders_since_last_order</th>\n",
       "      <th>up_order_rate_since_first_order</th>\n",
       "      <th>reordered</th>\n",
       "    </tr>\n",
       "  </thead>\n",
       "  <tbody>\n",
       "    <tr>\n",
       "      <th>0</th>\n",
       "      <td>1</td>\n",
       "      <td>196</td>\n",
       "      <td>10</td>\n",
       "      <td>1</td>\n",
       "      <td>10</td>\n",
       "      <td>1.400000</td>\n",
       "      <td>35791</td>\n",
       "      <td>0.582500</td>\n",
       "      <td>4.473875</td>\n",
       "      <td>0.776480</td>\n",
       "      <td>...</td>\n",
       "      <td>0.759259</td>\n",
       "      <td>18</td>\n",
       "      <td>5.9</td>\n",
       "      <td>1187899</td>\n",
       "      <td>train</td>\n",
       "      <td>14.0</td>\n",
       "      <td>1.0</td>\n",
       "      <td>0</td>\n",
       "      <td>1.000000</td>\n",
       "      <td>1.0</td>\n",
       "    </tr>\n",
       "    <tr>\n",
       "      <th>1</th>\n",
       "      <td>1</td>\n",
       "      <td>10258</td>\n",
       "      <td>9</td>\n",
       "      <td>2</td>\n",
       "      <td>10</td>\n",
       "      <td>3.333333</td>\n",
       "      <td>1946</td>\n",
       "      <td>0.552962</td>\n",
       "      <td>3.493716</td>\n",
       "      <td>0.713772</td>\n",
       "      <td>...</td>\n",
       "      <td>0.759259</td>\n",
       "      <td>18</td>\n",
       "      <td>5.9</td>\n",
       "      <td>1187899</td>\n",
       "      <td>train</td>\n",
       "      <td>14.0</td>\n",
       "      <td>0.9</td>\n",
       "      <td>0</td>\n",
       "      <td>1.000000</td>\n",
       "      <td>1.0</td>\n",
       "    </tr>\n",
       "    <tr>\n",
       "      <th>2</th>\n",
       "      <td>1</td>\n",
       "      <td>10326</td>\n",
       "      <td>1</td>\n",
       "      <td>5</td>\n",
       "      <td>5</td>\n",
       "      <td>5.000000</td>\n",
       "      <td>5526</td>\n",
       "      <td>0.521581</td>\n",
       "      <td>2.873635</td>\n",
       "      <td>0.652009</td>\n",
       "      <td>...</td>\n",
       "      <td>0.759259</td>\n",
       "      <td>18</td>\n",
       "      <td>5.9</td>\n",
       "      <td>1187899</td>\n",
       "      <td>train</td>\n",
       "      <td>14.0</td>\n",
       "      <td>0.1</td>\n",
       "      <td>5</td>\n",
       "      <td>0.166667</td>\n",
       "      <td>NaN</td>\n",
       "    </tr>\n",
       "    <tr>\n",
       "      <th>3</th>\n",
       "      <td>1</td>\n",
       "      <td>12427</td>\n",
       "      <td>10</td>\n",
       "      <td>1</td>\n",
       "      <td>10</td>\n",
       "      <td>3.300000</td>\n",
       "      <td>6476</td>\n",
       "      <td>0.529482</td>\n",
       "      <td>3.857058</td>\n",
       "      <td>0.740735</td>\n",
       "      <td>...</td>\n",
       "      <td>0.759259</td>\n",
       "      <td>18</td>\n",
       "      <td>5.9</td>\n",
       "      <td>1187899</td>\n",
       "      <td>train</td>\n",
       "      <td>14.0</td>\n",
       "      <td>1.0</td>\n",
       "      <td>0</td>\n",
       "      <td>1.000000</td>\n",
       "      <td>NaN</td>\n",
       "    </tr>\n",
       "    <tr>\n",
       "      <th>4</th>\n",
       "      <td>1</td>\n",
       "      <td>13032</td>\n",
       "      <td>3</td>\n",
       "      <td>2</td>\n",
       "      <td>10</td>\n",
       "      <td>6.333333</td>\n",
       "      <td>3751</td>\n",
       "      <td>0.479782</td>\n",
       "      <td>2.916796</td>\n",
       "      <td>0.657158</td>\n",
       "      <td>...</td>\n",
       "      <td>0.759259</td>\n",
       "      <td>18</td>\n",
       "      <td>5.9</td>\n",
       "      <td>1187899</td>\n",
       "      <td>train</td>\n",
       "      <td>14.0</td>\n",
       "      <td>0.3</td>\n",
       "      <td>0</td>\n",
       "      <td>0.333333</td>\n",
       "      <td>1.0</td>\n",
       "    </tr>\n",
       "  </tbody>\n",
       "</table>\n",
       "<p>5 rows × 24 columns</p>\n",
       "</div>"
      ],
      "text/plain": [
       "   user_id  product_id  up_orders  up_first_order  up_last_order  \\\n",
       "0        1         196         10               1             10   \n",
       "1        1       10258          9               2             10   \n",
       "2        1       10326          1               5              5   \n",
       "3        1       12427         10               1             10   \n",
       "4        1       13032          3               2             10   \n",
       "\n",
       "   up_average_cart_position  prod_orders  prod_reorder_probability  \\\n",
       "0                  1.400000        35791                  0.582500   \n",
       "1                  3.333333         1946                  0.552962   \n",
       "2                  5.000000         5526                  0.521581   \n",
       "3                  3.300000         6476                  0.529482   \n",
       "4                  6.333333         3751                  0.479782   \n",
       "\n",
       "   prod_reorder_times  prod_reorder_ratio    ...      user_reorder_ratio  \\\n",
       "0            4.473875            0.776480    ...                0.759259   \n",
       "1            3.493716            0.713772    ...                0.759259   \n",
       "2            2.873635            0.652009    ...                0.759259   \n",
       "3            3.857058            0.740735    ...                0.759259   \n",
       "4            2.916796            0.657158    ...                0.759259   \n",
       "\n",
       "   user_distinct_products  user_average_basket  order_id  eval_set  \\\n",
       "0                      18                  5.9   1187899     train   \n",
       "1                      18                  5.9   1187899     train   \n",
       "2                      18                  5.9   1187899     train   \n",
       "3                      18                  5.9   1187899     train   \n",
       "4                      18                  5.9   1187899     train   \n",
       "\n",
       "   days_since_prior_order  up_order_rate  up_orders_since_last_order  \\\n",
       "0                    14.0            1.0                           0   \n",
       "1                    14.0            0.9                           0   \n",
       "2                    14.0            0.1                           5   \n",
       "3                    14.0            1.0                           0   \n",
       "4                    14.0            0.3                           0   \n",
       "\n",
       "  up_order_rate_since_first_order  reordered  \n",
       "0                        1.000000        1.0  \n",
       "1                        1.000000        1.0  \n",
       "2                        0.166667        NaN  \n",
       "3                        1.000000        NaN  \n",
       "4                        0.333333        1.0  \n",
       "\n",
       "[5 rows x 24 columns]"
      ]
     },
     "execution_count": 22,
     "metadata": {},
     "output_type": "execute_result"
    }
   ],
   "source": [
    "reorder_ratio = data.dropna(subset=['user_reorder_ratio'])\n",
    "reorder_ratio.head()"
   ]
  },
  {
   "cell_type": "code",
   "execution_count": 23,
   "metadata": {
    "collapsed": false,
    "scrolled": true
   },
   "outputs": [
    {
     "data": {
      "image/png": "[encoded data removed]",
      "text/plain": [
       "<matplotlib.figure.Figure at 0x1c58a8a3908>"
      ]
     },
     "metadata": {},
     "output_type": "display_data"
    }
   ],
   "source": [
    "# Plot the reorded rate as a histogram\n",
    "plt.figure(num=2,figsize=(14,6))\n",
    "plt.hist(reorder_ratio['user_reorder_ratio'], bins=100)\n",
    "plt.xlabel('Product reorder rate')\n",
    "plt.ylabel('No. products')\n",
    "plt.title('Product reorder rate')\n",
    "plt.ticklabel_format(style='plain')\n",
    "plt.xlim(0,1)\n",
    "plt.show()"
   ]
  },
  {
   "cell_type": "code",
   "execution_count": 15,
   "metadata": {
    "collapsed": false,
    "scrolled": true
   },
   "outputs": [
    {
     "name": "stderr",
     "output_type": "stream",
     "text": [
      "C:\\Users\\Hua\\Anaconda3\\lib\\site-packages\\pandas\\core\\generic.py:3549: SettingWithCopyWarning: \n",
      "A value is trying to be set on a copy of a slice from a DataFrame\n",
      "\n",
      "See the caveats in the documentation: http://pandas.pydata.org/pandas-docs/stable/indexing.html#indexing-view-versus-copy\n",
      "  self._update_inplace(new_data)\n",
      "C:\\Users\\Hua\\Anaconda3\\lib\\site-packages\\ipykernel_launcher.py:5: SettingWithCopyWarning: \n",
      "A value is trying to be set on a copy of a slice from a DataFrame\n",
      "\n",
      "See the caveats in the documentation: http://pandas.pydata.org/pandas-docs/stable/indexing.html#indexing-view-versus-copy\n",
      "  \"\"\"\n",
      "C:\\Users\\Hua\\Anaconda3\\lib\\site-packages\\ipykernel_launcher.py:10: SettingWithCopyWarning: \n",
      "A value is trying to be set on a copy of a slice from a DataFrame\n",
      "\n",
      "See the caveats in the documentation: http://pandas.pydata.org/pandas-docs/stable/indexing.html#indexing-view-versus-copy\n",
      "  # Remove the CWD from sys.path while we load stuff.\n"
     ]
    }
   ],
   "source": [
    "train = data[data['eval_set'] == 'train']\n",
    "train['reordered'].fillna(0, inplace=True)\n",
    "train.drop(['eval_set', 'product_id', 'order_id'], axis = 1, inplace = True)\n",
    "\n",
    "test = data[data['eval_set'] == 'test']\n",
    "test['reordered'].fillna(0, inplace=True)\n",
    "test.drop(['eval_set', 'reordered'], axis = 1, inplace = True)\n",
    "\n",
    "train.to_csv('my_train.csv', header = True, index = False)\n",
    "test.to_csv('my_test.csv', header = True, index = False)"
   ]
  },
  {
   "cell_type": "code",
   "execution_count": 10,
   "metadata": {
    "collapsed": true
   },
   "outputs": [],
   "source": [
    "import lightgbm as lgb\n",
    "from sklearn.model_selection import GridSearchCV\n",
    "from sklearn.metrics import accuracy_score"
   ]
  },
  {
   "cell_type": "code",
   "execution_count": 34,
   "metadata": {
    "collapsed": false
   },
   "outputs": [
    {
     "data": {
      "text/plain": [
       "4798"
      ]
     },
     "execution_count": 34,
     "metadata": {},
     "output_type": "execute_result"
    }
   ],
   "source": [
    "train = pandas.read_csv('my_train.csv')\n",
    "test = pandas.read_csv('my_test.csv')\n",
    "\n",
    "capstone_train = pandas.merge(train, train_user, how='inner', on='user_id')\n",
    "capstone_test = pandas.merge(train, test_user, how='inner', on='user_id')\n",
    "\n",
    "del train \n",
    "gc.collect()"
   ]
  },
  {
   "cell_type": "code",
   "execution_count": 27,
   "metadata": {
    "collapsed": true
   },
   "outputs": [],
   "source": [
    "X_train = capstone_train[capstone_train.columns.difference(['reordered'])]\n",
    "y_train = capstone_train['reordered']\n",
    "\n",
    "X_eval = capstone_test[capstone_test.columns.difference(['reordered'])]\n",
    "y_eval = capstone_test['reordered']"
   ]
  },
  {
   "cell_type": "code",
   "execution_count": 29,
   "metadata": {
    "collapsed": true
   },
   "outputs": [],
   "source": [
    "lgb_train = lgb.Dataset(X_train, label=y_train)\n",
    "lgb_eval = lgb.Dataset(X_eval, y_eval, reference = lgb_train)\n",
    "\n",
    "params = {\n",
    "    'task': 'train',\n",
    "    'boosting_type': 'gbdt',              \n",
    "    'objective': 'binary',\n",
    "    'metric': {'binary_logloss', 'auc'},\n",
    "    'num_iterations' : 1000,              \n",
    "    'max_bin' : 100,                      \n",
    "    'num_leaves': 512,                    \n",
    "    'feature_fraction': 0.9,              \n",
    "    'bagging_fraction': 0.95,\n",
    "    'bagging_freq': 5,\n",
    "    'min_data_in_leaf' : 200,             \n",
    "    'learning_rate' : 0.1,\n",
    "}"
   ]
  },
  {
   "cell_type": "code",
   "execution_count": 30,
   "metadata": {
    "collapsed": false
   },
   "outputs": [
    {
     "name": "stdout",
     "output_type": "stream",
     "text": [
      "training LightGBM model ...\n"
     ]
    },
    {
     "name": "stderr",
     "output_type": "stream",
     "text": [
      "C:\\Users\\Hua\\Anaconda3\\lib\\site-packages\\lightgbm\\engine.py:100: UserWarning: Found `num_iterations` in params. Will use it instead of argument\n",
      "  warnings.warn(\"Found `{}` in params. Will use it instead of argument\".format(alias))\n"
     ]
    },
    {
     "name": "stdout",
     "output_type": "stream",
     "text": [
      "[1]\tvalid_0's auc: 0.826249\tvalid_0's binary_logloss: 0.625257\n",
      "Training until validation scores don't improve for 10 rounds.\n",
      "[2]\tvalid_0's auc: 0.8277\tvalid_0's binary_logloss: 0.569756\n",
      "[3]\tvalid_0's auc: 0.8287\tvalid_0's binary_logloss: 0.523723\n",
      "[4]\tvalid_0's auc: 0.82897\tvalid_0's binary_logloss: 0.485084\n",
      "[5]\tvalid_0's auc: 0.829182\tvalid_0's binary_logloss: 0.452386\n",
      "[6]\tvalid_0's auc: 0.829443\tvalid_0's binary_logloss: 0.424522\n",
      "[7]\tvalid_0's auc: 0.829628\tvalid_0's binary_logloss: 0.400715\n",
      "[8]\tvalid_0's auc: 0.829777\tvalid_0's binary_logloss: 0.380189\n",
      "[9]\tvalid_0's auc: 0.830014\tvalid_0's binary_logloss: 0.362589\n",
      "[10]\tvalid_0's auc: 0.830265\tvalid_0's binary_logloss: 0.34727\n",
      "[11]\tvalid_0's auc: 0.830469\tvalid_0's binary_logloss: 0.333963\n",
      "[12]\tvalid_0's auc: 0.830575\tvalid_0's binary_logloss: 0.322422\n",
      "[13]\tvalid_0's auc: 0.830757\tvalid_0's binary_logloss: 0.312377\n",
      "[14]\tvalid_0's auc: 0.830999\tvalid_0's binary_logloss: 0.303637\n",
      "[15]\tvalid_0's auc: 0.831098\tvalid_0's binary_logloss: 0.296072\n",
      "[16]\tvalid_0's auc: 0.831208\tvalid_0's binary_logloss: 0.289453\n",
      "[17]\tvalid_0's auc: 0.831337\tvalid_0's binary_logloss: 0.283722\n",
      "[18]\tvalid_0's auc: 0.831451\tvalid_0's binary_logloss: 0.278718\n",
      "[19]\tvalid_0's auc: 0.831583\tvalid_0's binary_logloss: 0.274317\n",
      "[20]\tvalid_0's auc: 0.831699\tvalid_0's binary_logloss: 0.270486\n",
      "[21]\tvalid_0's auc: 0.831803\tvalid_0's binary_logloss: 0.267151\n",
      "[22]\tvalid_0's auc: 0.83188\tvalid_0's binary_logloss: 0.26426\n",
      "[23]\tvalid_0's auc: 0.831999\tvalid_0's binary_logloss: 0.261732\n",
      "[24]\tvalid_0's auc: 0.832093\tvalid_0's binary_logloss: 0.259569\n",
      "[25]\tvalid_0's auc: 0.832174\tvalid_0's binary_logloss: 0.257665\n",
      "[26]\tvalid_0's auc: 0.832257\tvalid_0's binary_logloss: 0.256018\n",
      "[27]\tvalid_0's auc: 0.832339\tvalid_0's binary_logloss: 0.254585\n",
      "[28]\tvalid_0's auc: 0.83246\tvalid_0's binary_logloss: 0.253324\n",
      "[29]\tvalid_0's auc: 0.832562\tvalid_0's binary_logloss: 0.252238\n",
      "[30]\tvalid_0's auc: 0.832659\tvalid_0's binary_logloss: 0.251298\n",
      "[31]\tvalid_0's auc: 0.832764\tvalid_0's binary_logloss: 0.250481\n",
      "[32]\tvalid_0's auc: 0.832834\tvalid_0's binary_logloss: 0.249815\n",
      "[33]\tvalid_0's auc: 0.832907\tvalid_0's binary_logloss: 0.249215\n",
      "[34]\tvalid_0's auc: 0.832968\tvalid_0's binary_logloss: 0.248691\n",
      "[35]\tvalid_0's auc: 0.833044\tvalid_0's binary_logloss: 0.248228\n",
      "[36]\tvalid_0's auc: 0.833095\tvalid_0's binary_logloss: 0.247845\n",
      "[37]\tvalid_0's auc: 0.833122\tvalid_0's binary_logloss: 0.247526\n",
      "[38]\tvalid_0's auc: 0.833196\tvalid_0's binary_logloss: 0.24723\n",
      "[39]\tvalid_0's auc: 0.833282\tvalid_0's binary_logloss: 0.246966\n",
      "[40]\tvalid_0's auc: 0.833326\tvalid_0's binary_logloss: 0.246747\n",
      "[41]\tvalid_0's auc: 0.83341\tvalid_0's binary_logloss: 0.24654\n",
      "[42]\tvalid_0's auc: 0.833453\tvalid_0's binary_logloss: 0.246381\n",
      "[43]\tvalid_0's auc: 0.833537\tvalid_0's binary_logloss: 0.246219\n",
      "[44]\tvalid_0's auc: 0.8336\tvalid_0's binary_logloss: 0.24609\n",
      "[45]\tvalid_0's auc: 0.833653\tvalid_0's binary_logloss: 0.245981\n",
      "[46]\tvalid_0's auc: 0.833711\tvalid_0's binary_logloss: 0.245882\n",
      "[47]\tvalid_0's auc: 0.833732\tvalid_0's binary_logloss: 0.245818\n",
      "[48]\tvalid_0's auc: 0.83375\tvalid_0's binary_logloss: 0.245757\n",
      "[49]\tvalid_0's auc: 0.833776\tvalid_0's binary_logloss: 0.245708\n",
      "[50]\tvalid_0's auc: 0.833793\tvalid_0's binary_logloss: 0.245664\n",
      "[51]\tvalid_0's auc: 0.833814\tvalid_0's binary_logloss: 0.245619\n",
      "[52]\tvalid_0's auc: 0.833823\tvalid_0's binary_logloss: 0.245594\n",
      "[53]\tvalid_0's auc: 0.833839\tvalid_0's binary_logloss: 0.245567\n",
      "[54]\tvalid_0's auc: 0.833856\tvalid_0's binary_logloss: 0.245541\n",
      "[55]\tvalid_0's auc: 0.833881\tvalid_0's binary_logloss: 0.245513\n",
      "[56]\tvalid_0's auc: 0.833882\tvalid_0's binary_logloss: 0.245502\n",
      "[57]\tvalid_0's auc: 0.833891\tvalid_0's binary_logloss: 0.245488\n",
      "[58]\tvalid_0's auc: 0.833936\tvalid_0's binary_logloss: 0.24546\n",
      "[59]\tvalid_0's auc: 0.83395\tvalid_0's binary_logloss: 0.245455\n",
      "[60]\tvalid_0's auc: 0.834006\tvalid_0's binary_logloss: 0.245425\n",
      "[61]\tvalid_0's auc: 0.834003\tvalid_0's binary_logloss: 0.245422\n",
      "[62]\tvalid_0's auc: 0.834036\tvalid_0's binary_logloss: 0.245409\n",
      "[63]\tvalid_0's auc: 0.834078\tvalid_0's binary_logloss: 0.245392\n",
      "[64]\tvalid_0's auc: 0.83408\tvalid_0's binary_logloss: 0.245386\n",
      "[65]\tvalid_0's auc: 0.834069\tvalid_0's binary_logloss: 0.24539\n",
      "[66]\tvalid_0's auc: 0.834068\tvalid_0's binary_logloss: 0.245388\n",
      "[67]\tvalid_0's auc: 0.834073\tvalid_0's binary_logloss: 0.245386\n",
      "[68]\tvalid_0's auc: 0.834061\tvalid_0's binary_logloss: 0.245391\n",
      "[69]\tvalid_0's auc: 0.834063\tvalid_0's binary_logloss: 0.245394\n",
      "[70]\tvalid_0's auc: 0.834063\tvalid_0's binary_logloss: 0.245396\n",
      "[71]\tvalid_0's auc: 0.834058\tvalid_0's binary_logloss: 0.245396\n",
      "[72]\tvalid_0's auc: 0.834049\tvalid_0's binary_logloss: 0.245399\n",
      "[73]\tvalid_0's auc: 0.83405\tvalid_0's binary_logloss: 0.245397\n",
      "[74]\tvalid_0's auc: 0.834048\tvalid_0's binary_logloss: 0.245397\n",
      "Early stopping, best iteration is:\n",
      "[64]\tvalid_0's auc: 0.83408\tvalid_0's binary_logloss: 0.245386\n",
      "applying model to test data ...\n"
     ]
    }
   ],
   "source": [
    "print('train LightGBM model ...')\n",
    "lgb_model = lgb.train(params,\n",
    "                lgb_train,\n",
    "                num_boost_round = 200,     \n",
    "                valid_sets = lgb_eval,     \n",
    "                early_stopping_rounds=10) \n",
    "\n",
    "del lgb_train, X_train, y_train\n",
    "gc.collect()\n",
    "\n",
    "print('implement model to test data ...')\n",
    "test['reordered'] = lgb_model.predict(test[test.columns.difference(['order_id', 'product_id'])], num_iteration = lgb_model.best_iteration)"
   ]
  },
  {
   "cell_type": "code",
   "execution_count": 31,
   "metadata": {
    "collapsed": false
   },
   "outputs": [
    {
     "name": "stdout",
     "output_type": "stream",
     "text": [
      "formatting and writing to submission file ...\n"
     ]
    }
   ],
   "source": [
    "prod_basket = dict()\n",
    "for row in test.itertuples():\n",
    "    if row.reordered > 0.20:\n",
    "        try:\n",
    "            prod_basket[row.order_id] += ' ' + str(row.product_id)\n",
    "        except:\n",
    "            prod_basket[row.order_id] = str(row.product_id)\n",
    "\n",
    "for order in test.order_id:\n",
    "    if order not in prod_basket:\n",
    "        prod_basket[order] = 'None'\n",
    "\n",
    "submit = pandas.DataFrame.from_dict(prod_basket, orient='index')\n",
    "\n",
    "submit.reset_index(inplace=True)\n",
    "submit.columns = ['order_id', 'products']\n",
    "submit.to_csv('Output_for_Submission.csv', index=False)"
   ]
  }
 ],
 "metadata": {
  "kernelspec": {
   "display_name": "Python 2",
   "language": "python",
   "name": "python2"
  },
  "language_info": {
   "codemirror_mode": {
    "name": "ipython",
    "version": 2
   },
   "file_extension": ".py",
   "mimetype": "text/x-python",
   "name": "python",
   "nbconvert_exporter": "python",
   "pygments_lexer": "ipython2",
   "version": "2.7.13"
  }
 },
 "nbformat": 4,
 "nbformat_minor": 1
}
